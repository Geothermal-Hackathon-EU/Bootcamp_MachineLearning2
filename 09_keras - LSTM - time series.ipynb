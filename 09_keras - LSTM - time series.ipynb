{
 "cells": [
  {
   "cell_type": "code",
   "execution_count": 1,
   "metadata": {},
   "outputs": [
    {
     "data": {
      "image/png": "[encoded data removed]",
      "text/plain": [
       "<Figure size 432x288 with 1 Axes>"
      ]
     },
     "metadata": {
      "needs_background": "light"
     },
     "output_type": "display_data"
    }
   ],
   "source": [
    "import pandas\n",
    "import matplotlib.pyplot as plt\n",
    "dataset = pandas.read_csv('international-airline-passengers.csv', usecols=[1], engine='python', skipfooter=3)\n",
    "plt.plot(dataset)\n",
    "plt.show()"
   ]
  },
  {
   "cell_type": "code",
   "execution_count": 2,
   "metadata": {},
   "outputs": [],
   "source": [
    "import numpy\n",
    "import matplotlib.pyplot as plt\n",
    "import pandas\n",
    "import math\n",
    "from keras.models import Sequential\n",
    "from keras.layers import Dense\n",
    "from keras.layers import LSTM\n",
    "from sklearn.preprocessing import MinMaxScaler\n",
    "from sklearn.metrics import mean_squared_error"
   ]
  },
  {
   "cell_type": "code",
   "execution_count": 3,
   "metadata": {},
   "outputs": [],
   "source": [
    "# load the dataset\n",
    "dataframe = pandas.read_csv('international-airline-passengers.csv', usecols=[1], engine='python', skipfooter=3)\n",
    "dataset = dataframe.values\n",
    "dataset = dataset.astype('float32')"
   ]
  },
  {
   "cell_type": "code",
   "execution_count": 4,
   "metadata": {},
   "outputs": [],
   "source": [
    "# normalize the dataset\n",
    "scaler = MinMaxScaler(feature_range=(0, 1)) # feature range allows to define the range where the variables belong\n",
    "dataset = scaler.fit_transform(dataset)"
   ]
  },
  {
   "cell_type": "code",
   "execution_count": 5,
   "metadata": {},
   "outputs": [
    {
     "name": "stdout",
     "output_type": "stream",
     "text": [
      "96 48\n"
     ]
    }
   ],
   "source": [
    "train_size = int(len(dataset) * 0.67) # take 2/3 part of total set\n",
    "test_size = len(dataset) - train_size\n",
    "train, test = dataset[0:train_size,:], dataset[train_size:len(dataset),:]\n",
    "print(len(train), len(test))"
   ]
  },
  {
   "cell_type": "code",
   "execution_count": 6,
   "metadata": {},
   "outputs": [],
   "source": [
    "def create_dataset(dataset, look_back=1):\n",
    "    dataX, dataY = [], []\n",
    "    for i in range(len(dataset)-look_back-1):\n",
    "        a = dataset[i:(i+look_back), 0]\n",
    "        dataX.append(a)\n",
    "        dataY.append(dataset[i + look_back, 0])\n",
    "    return numpy.array(dataX), numpy.array(dataY)"
   ]
  },
  {
   "cell_type": "code",
   "execution_count": 7,
   "metadata": {},
   "outputs": [
    {
     "data": {
      "text/plain": [
       "array([[0.01544401, 0.02702703, 0.05405405],\n",
       "       [0.02702703, 0.05405405, 0.04826255],\n",
       "       [0.05405405, 0.04826255, 0.03281853],\n",
       "       [0.04826255, 0.03281853, 0.05984557],\n",
       "       [0.03281853, 0.05984557, 0.08494207],\n",
       "       [0.05984557, 0.08494207, 0.08494207],\n",
       "       [0.08494207, 0.08494207, 0.06177607],\n",
       "       [0.08494207, 0.06177607, 0.02895753],\n",
       "       [0.06177607, 0.02895753, 0.        ],\n",
       "       [0.02895753, 0.        , 0.02702703],\n",
       "       [0.        , 0.02702703, 0.02123553],\n",
       "       [0.02702703, 0.02123553, 0.04247104],\n",
       "       [0.02123553, 0.04247104, 0.07142857],\n",
       "       [0.04247104, 0.07142857, 0.05984557],\n",
       "       [0.07142857, 0.05984557, 0.04054055],\n",
       "       [0.05984557, 0.04054055, 0.08687258],\n",
       "       [0.04054055, 0.08687258, 0.12741312],\n",
       "       [0.08687258, 0.12741312, 0.12741312],\n",
       "       [0.12741312, 0.12741312, 0.10424709],\n",
       "       [0.12741312, 0.10424709, 0.05598456],\n",
       "       [0.10424709, 0.05598456, 0.01930502],\n",
       "       [0.05598456, 0.01930502, 0.06949806],\n",
       "       [0.01930502, 0.06949806, 0.07915059],\n",
       "       [0.06949806, 0.07915059, 0.08880308],\n",
       "       [0.07915059, 0.08880308, 0.14285713],\n",
       "       [0.08880308, 0.14285713, 0.11389962],\n",
       "       [0.14285713, 0.11389962, 0.13127413],\n",
       "       [0.11389962, 0.13127413, 0.14285713],\n",
       "       [0.13127413, 0.14285713, 0.18339768],\n",
       "       [0.14285713, 0.18339768, 0.18339768],\n",
       "       [0.18339768, 0.18339768, 0.15444016],\n",
       "       [0.18339768, 0.15444016, 0.11196911],\n",
       "       [0.15444016, 0.11196911, 0.08108109],\n",
       "       [0.11196911, 0.08108109, 0.1196911 ],\n",
       "       [0.08108109, 0.1196911 , 0.12934363],\n",
       "       [0.1196911 , 0.12934363, 0.14671814],\n",
       "       [0.12934363, 0.14671814, 0.17181468],\n",
       "       [0.14671814, 0.17181468, 0.14864865],\n",
       "       [0.17181468, 0.14864865, 0.15250966],\n",
       "       [0.14864865, 0.15250966, 0.22007722],\n",
       "       [0.15250966, 0.22007722, 0.24324325],\n",
       "       [0.22007722, 0.24324325, 0.26640925],\n",
       "       [0.24324325, 0.26640925, 0.2027027 ],\n",
       "       [0.26640925, 0.2027027 , 0.16795367],\n",
       "       [0.2027027 , 0.16795367, 0.13127413],\n",
       "       [0.16795367, 0.13127413, 0.17374519],\n",
       "       [0.13127413, 0.17374519, 0.17760617],\n",
       "       [0.17374519, 0.17760617, 0.17760617],\n",
       "       [0.17760617, 0.17760617, 0.25482625],\n",
       "       [0.17760617, 0.25482625, 0.25289574],\n",
       "       [0.25482625, 0.25289574, 0.24131274],\n",
       "       [0.25289574, 0.24131274, 0.26833975],\n",
       "       [0.24131274, 0.26833975, 0.3088803 ],\n",
       "       [0.26833975, 0.3088803 , 0.32432434],\n",
       "       [0.3088803 , 0.32432434, 0.25675675],\n",
       "       [0.32432434, 0.25675675, 0.20656371],\n",
       "       [0.25675675, 0.20656371, 0.14671814],\n",
       "       [0.20656371, 0.14671814, 0.18725869],\n",
       "       [0.14671814, 0.18725869, 0.19305018],\n",
       "       [0.18725869, 0.19305018, 0.16216215],\n",
       "       [0.19305018, 0.16216215, 0.25289574],\n",
       "       [0.16216215, 0.25289574, 0.23745173],\n",
       "       [0.25289574, 0.23745173, 0.25096524],\n",
       "       [0.23745173, 0.25096524, 0.3088803 ],\n",
       "       [0.25096524, 0.3088803 , 0.38223937],\n",
       "       [0.3088803 , 0.38223937, 0.36486486],\n",
       "       [0.38223937, 0.36486486, 0.2992278 ],\n",
       "       [0.36486486, 0.2992278 , 0.24131274],\n",
       "       [0.2992278 , 0.24131274, 0.1911197 ],\n",
       "       [0.24131274, 0.1911197 , 0.24131274],\n",
       "       [0.1911197 , 0.24131274, 0.26640925],\n",
       "       [0.24131274, 0.26640925, 0.24903473],\n",
       "       [0.26640925, 0.24903473, 0.31467178],\n",
       "       [0.24903473, 0.31467178, 0.3185328 ],\n",
       "       [0.31467178, 0.3185328 , 0.32046333],\n",
       "       [0.3185328 , 0.32046333, 0.4073359 ],\n",
       "       [0.32046333, 0.4073359 , 0.5019305 ],\n",
       "       [0.4073359 , 0.5019305 , 0.46911195],\n",
       "       [0.5019305 , 0.46911195, 0.40154442],\n",
       "       [0.46911195, 0.40154442, 0.32818535],\n",
       "       [0.40154442, 0.32818535, 0.25675675],\n",
       "       [0.32818535, 0.25675675, 0.3359073 ],\n",
       "       [0.25675675, 0.3359073 , 0.34749034],\n",
       "       [0.3359073 , 0.34749034, 0.33397684],\n",
       "       [0.34749034, 0.33397684, 0.41119692],\n",
       "       [0.33397684, 0.41119692, 0.4034749 ],\n",
       "       [0.41119692, 0.4034749 , 0.4131274 ],\n",
       "       [0.4034749 , 0.4131274 , 0.52123547],\n",
       "       [0.4131274 , 0.52123547, 0.5965251 ],\n",
       "       [0.52123547, 0.5965251 , 0.58108103],\n",
       "       [0.5965251 , 0.58108103, 0.484556  ],\n",
       "       [0.58108103, 0.484556  , 0.3899614 ]], dtype=float32)"
      ]
     },
     "execution_count": 7,
     "metadata": {},
     "output_type": "execute_result"
    }
   ],
   "source": [
    "#look_back = 1\n",
    "look_back = 3\n",
    "trainX, trainY = create_dataset(train, look_back)\n",
    "testX, testY = create_dataset(test, look_back)\n",
    "trainX"
   ]
  },
  {
   "cell_type": "code",
   "execution_count": 8,
   "metadata": {},
   "outputs": [],
   "source": [
    "#stateful =false\n",
    "# reshape input to be [samples, time steps, features]\n",
    "#trainX = numpy.reshape(trainX, (trainX.shape[0], 1, trainX.shape[1]))\n",
    "#testX = numpy.reshape(testX, (testX.shape[0], 1, testX.shape[1]))\n",
    "\n",
    "#stateful =true\n",
    "# reshape input to be [samples, time steps, features]\n",
    "trainX = numpy.reshape(trainX, (trainX.shape[0], trainX.shape[1], 1))\n",
    "testX = numpy.reshape(testX, (testX.shape[0], testX.shape[1], 1))\n",
    "\n"
   ]
  },
  {
   "cell_type": "code",
   "execution_count": 9,
   "metadata": {},
   "outputs": [
    {
     "name": "stdout",
     "output_type": "stream",
     "text": [
      "92/92 - 3s - loss: 0.0056\n",
      "92/92 - 0s - loss: 0.0182\n",
      "92/92 - 0s - loss: 0.0111\n",
      "92/92 - 0s - loss: 0.0075\n",
      "92/92 - 0s - loss: 0.0060\n",
      "92/92 - 0s - loss: 0.0056\n",
      "92/92 - 0s - loss: 0.0055\n",
      "92/92 - 0s - loss: 0.0055\n",
      "92/92 - 0s - loss: 0.0055\n",
      "92/92 - 0s - loss: 0.0055\n",
      "92/92 - 0s - loss: 0.0055\n",
      "92/92 - 0s - loss: 0.0055\n",
      "92/92 - 0s - loss: 0.0055\n",
      "92/92 - 0s - loss: 0.0055\n",
      "92/92 - 0s - loss: 0.0055\n",
      "92/92 - 0s - loss: 0.0055\n",
      "92/92 - 0s - loss: 0.0055\n",
      "92/92 - 0s - loss: 0.0055\n",
      "92/92 - 0s - loss: 0.0055\n",
      "92/92 - 0s - loss: 0.0055\n",
      "92/92 - 0s - loss: 0.0055\n",
      "92/92 - 0s - loss: 0.0055\n",
      "92/92 - 0s - loss: 0.0055\n",
      "92/92 - 0s - loss: 0.0055\n",
      "92/92 - 0s - loss: 0.0055\n",
      "92/92 - 0s - loss: 0.0054\n",
      "92/92 - 0s - loss: 0.0054\n",
      "92/92 - 0s - loss: 0.0054\n",
      "92/92 - 0s - loss: 0.0054\n",
      "92/92 - 0s - loss: 0.0054\n",
      "92/92 - 0s - loss: 0.0054\n",
      "92/92 - 0s - loss: 0.0053\n",
      "92/92 - 0s - loss: 0.0053\n",
      "92/92 - 0s - loss: 0.0053\n",
      "92/92 - 0s - loss: 0.0053\n",
      "92/92 - 0s - loss: 0.0052\n",
      "92/92 - 0s - loss: 0.0052\n",
      "92/92 - 0s - loss: 0.0052\n",
      "92/92 - 0s - loss: 0.0051\n",
      "92/92 - 0s - loss: 0.0051\n",
      "92/92 - 0s - loss: 0.0051\n",
      "92/92 - 0s - loss: 0.0050\n",
      "92/92 - 0s - loss: 0.0050\n",
      "92/92 - 0s - loss: 0.0050\n",
      "92/92 - 0s - loss: 0.0049\n",
      "92/92 - 0s - loss: 0.0049\n",
      "92/92 - 0s - loss: 0.0048\n",
      "92/92 - 0s - loss: 0.0048\n",
      "92/92 - 0s - loss: 0.0047\n",
      "92/92 - 0s - loss: 0.0046\n",
      "92/92 - 0s - loss: 0.0045\n",
      "92/92 - 0s - loss: 0.0043\n",
      "92/92 - 0s - loss: 0.0042\n",
      "92/92 - 0s - loss: 0.0041\n",
      "92/92 - 0s - loss: 0.0039\n",
      "92/92 - 0s - loss: 0.0038\n",
      "92/92 - 0s - loss: 0.0037\n",
      "92/92 - 0s - loss: 0.0035\n",
      "92/92 - 0s - loss: 0.0034\n",
      "92/92 - 0s - loss: 0.0033\n",
      "92/92 - 0s - loss: 0.0032\n",
      "92/92 - 0s - loss: 0.0031\n",
      "92/92 - 0s - loss: 0.0031\n",
      "92/92 - 0s - loss: 0.0030\n",
      "92/92 - 0s - loss: 0.0030\n",
      "92/92 - 0s - loss: 0.0029\n",
      "92/92 - 0s - loss: 0.0029\n",
      "92/92 - 0s - loss: 0.0029\n",
      "92/92 - 0s - loss: 0.0028\n",
      "92/92 - 0s - loss: 0.0028\n",
      "92/92 - 0s - loss: 0.0028\n",
      "92/92 - 0s - loss: 0.0028\n",
      "92/92 - 0s - loss: 0.0027\n",
      "92/92 - 0s - loss: 0.0027\n",
      "92/92 - 0s - loss: 0.0027\n",
      "92/92 - 0s - loss: 0.0027\n",
      "92/92 - 1s - loss: 0.0026\n",
      "92/92 - 0s - loss: 0.0026\n",
      "92/92 - 0s - loss: 0.0026\n",
      "92/92 - 1s - loss: 0.0026\n",
      "92/92 - 0s - loss: 0.0025\n",
      "92/92 - 0s - loss: 0.0025\n",
      "92/92 - 0s - loss: 0.0025\n",
      "92/92 - 0s - loss: 0.0025\n",
      "92/92 - 0s - loss: 0.0024\n",
      "92/92 - 1s - loss: 0.0024\n",
      "92/92 - 0s - loss: 0.0024\n",
      "92/92 - 0s - loss: 0.0023\n",
      "92/92 - 0s - loss: 0.0023\n",
      "92/92 - 0s - loss: 0.0023\n",
      "92/92 - 0s - loss: 0.0023\n",
      "92/92 - 0s - loss: 0.0022\n",
      "92/92 - 0s - loss: 0.0022\n",
      "92/92 - 0s - loss: 0.0022\n",
      "92/92 - 0s - loss: 0.0022\n",
      "92/92 - 0s - loss: 0.0021\n",
      "92/92 - 0s - loss: 0.0021\n",
      "92/92 - 0s - loss: 0.0021\n",
      "92/92 - 0s - loss: 0.0021\n",
      "92/92 - 1s - loss: 0.0021\n"
     ]
    }
   ],
   "source": [
    "# create and fit the LSTM network\n",
    "model = Sequential()\n",
    "batch_size = 1\n",
    "#stateful =false\n",
    "#model.add(LSTM(4, input_shape=(1, look_back)))\n",
    "\n",
    "#stateful =true\n",
    "#model.add(LSTM(4, batch_input_shape=(batch_size, look_back, 1), stateful=True))\n",
    "\n",
    "#stacked  & stateful =true\n",
    "model.add(LSTM(4, batch_input_shape=(batch_size, look_back, 1), stateful=True, return_sequences=True))\n",
    "model.add(LSTM(4, batch_input_shape=(batch_size, look_back, 1), stateful=True))\n",
    "\n",
    "model.add(Dense(1))\n",
    "model.compile(loss='mean_squared_error', optimizer='adam')\n",
    "\n",
    "#no memory\n",
    "# model.fit(trainX, trainY, epochs=100, batch_size=1, verbose=2)\n",
    "\n",
    "#memory between batches\n",
    "#batch_size = 1\n",
    "for i in range(100):\n",
    "    model.fit(trainX, trainY, epochs=1, batch_size=batch_size, verbose=2, shuffle=False)\n",
    "    model.reset_states()\n"
   ]
  },
  {
   "cell_type": "code",
   "execution_count": 10,
   "metadata": {},
   "outputs": [
    {
     "name": "stdout",
     "output_type": "stream",
     "text": [
      "Train Score: 22.47 RMSE\n",
      "Test Score: 71.15 RMSE\n"
     ]
    }
   ],
   "source": [
    "# make predictions\n",
    "#stateful =false\n",
    "#trainPredict = model.predict(trainX)\n",
    "#testPredict = model.predict(testX)\n",
    "\n",
    "#stateful =true\n",
    "trainPredict = model.predict(trainX, batch_size=batch_size)\n",
    "model.reset_states()\n",
    "testPredict = model.predict(testX, batch_size=batch_size)\n",
    "\n",
    "# invert predictions\n",
    "trainPredict = scaler.inverse_transform(trainPredict)\n",
    "trainY = scaler.inverse_transform([trainY])\n",
    "testPredict = scaler.inverse_transform(testPredict)\n",
    "testY = scaler.inverse_transform([testY])\n",
    "# calculate root mean squared error\n",
    "trainScore = math.sqrt(mean_squared_error(trainY[0], trainPredict[:,0]))\n",
    "print('Train Score: %.2f RMSE' % (trainScore))\n",
    "testScore = math.sqrt(mean_squared_error(testY[0], testPredict[:,0]))\n",
    "print('Test Score: %.2f RMSE' % (testScore))"
   ]
  },
  {
   "cell_type": "code",
   "execution_count": 11,
   "metadata": {},
   "outputs": [
    {
     "data": {
      "image/png": "[encoded data removed]",
      "text/plain": [
       "<Figure size 432x288 with 1 Axes>"
      ]
     },
     "metadata": {
      "needs_background": "light"
     },
     "output_type": "display_data"
    }
   ],
   "source": [
    "# shift train predictions for plotting\n",
    "trainPredictPlot = numpy.empty_like(dataset)\n",
    "trainPredictPlot[:, :] = numpy.nan\n",
    "trainPredictPlot[look_back:len(trainPredict)+look_back, :] = trainPredict\n",
    "# shift test predictions for plotting\n",
    "testPredictPlot = numpy.empty_like(dataset)\n",
    "testPredictPlot[:, :] = numpy.nan\n",
    "testPredictPlot[len(trainPredict)+(look_back*2)+1:len(dataset)-1, :] = testPredict\n",
    "# plot baseline and predictions\n",
    "plt.plot(scaler.inverse_transform(dataset))\n",
    "plt.plot(trainPredictPlot)\n",
    "plt.plot(testPredictPlot)\n",
    "plt.show()"
   ]
  },
  {
   "cell_type": "code",
   "execution_count": null,
   "metadata": {},
   "outputs": [],
   "source": []
  },
  {
   "cell_type": "code",
   "execution_count": null,
   "metadata": {},
   "outputs": [],
   "source": []
  }
 ],
 "metadata": {
  "kernelspec": {
   "display_name": "Python 3",
   "language": "python",
   "name": "python3"
  },
  "language_info": {
   "codemirror_mode": {
    "name": "ipython",
    "version": 3
   },
   "file_extension": ".py",
   "mimetype": "text/x-python",
   "name": "python",
   "nbconvert_exporter": "python",
   "pygments_lexer": "ipython3",
   "version": "3.8.5"
  }
 },
 "nbformat": 4,
 "nbformat_minor": 2
}
